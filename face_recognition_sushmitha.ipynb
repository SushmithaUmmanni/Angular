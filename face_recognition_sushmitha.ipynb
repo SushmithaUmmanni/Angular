{
  "nbformat": 4,
  "nbformat_minor": 0,
  "metadata": {
    "colab": {
      "name": "face_recognition/sushmitha.ipynb",
      "provenance": [],
      "authorship_tag": "ABX9TyNSi+Lsyc2BNydhPcA4MxfX",
      "include_colab_link": true
    },
    "kernelspec": {
      "name": "python3",
      "display_name": "Python 3"
    },
    "accelerator": "GPU"
  },
  "cells": [
    {
      "cell_type": "markdown",
      "metadata": {
        "id": "view-in-github",
        "colab_type": "text"
      },
      "source": [
        "<a href=\"https://colab.research.google.com/github/SushmithaUmmanni/Angular/blob/master/face_recognition_sushmitha.ipynb\" target=\"_parent\"><img src=\"https://colab.research.google.com/assets/colab-badge.svg\" alt=\"Open In Colab\"/></a>"
      ]
    },
    {
      "cell_type": "code",
      "metadata": {
        "id": "o7nBCldBUvgy",
        "colab_type": "code",
        "colab": {
          "base_uri": "https://localhost:8080/",
          "height": 321
        },
        "outputId": "0ba57ea3-b1e2-42e0-dc77-8e949bd4628c"
      },
      "source": [
        "pip install face_recognition"
      ],
      "execution_count": null,
      "outputs": [
        {
          "output_type": "stream",
          "text": [
            "Collecting face_recognition\n",
            "  Downloading https://files.pythonhosted.org/packages/1e/95/f6c9330f54ab07bfa032bf3715c12455a381083125d8880c43cbe76bb3d0/face_recognition-1.3.0-py2.py3-none-any.whl\n",
            "Collecting face-recognition-models>=0.3.0\n",
            "\u001b[?25l  Downloading https://files.pythonhosted.org/packages/cf/3b/4fd8c534f6c0d1b80ce0973d01331525538045084c73c153ee6df20224cf/face_recognition_models-0.3.0.tar.gz (100.1MB)\n",
            "\u001b[K     |████████████████████████████████| 100.2MB 42kB/s \n",
            "\u001b[?25hRequirement already satisfied: Click>=6.0 in /usr/local/lib/python3.6/dist-packages (from face_recognition) (7.1.2)\n",
            "Requirement already satisfied: dlib>=19.7 in /usr/local/lib/python3.6/dist-packages (from face_recognition) (19.18.0)\n",
            "Requirement already satisfied: Pillow in /usr/local/lib/python3.6/dist-packages (from face_recognition) (7.0.0)\n",
            "Requirement already satisfied: numpy in /usr/local/lib/python3.6/dist-packages (from face_recognition) (1.18.5)\n",
            "Building wheels for collected packages: face-recognition-models\n",
            "  Building wheel for face-recognition-models (setup.py) ... \u001b[?25l\u001b[?25hdone\n",
            "  Created wheel for face-recognition-models: filename=face_recognition_models-0.3.0-py2.py3-none-any.whl size=100566173 sha256=4178a1d3cfe03dcf4ce70ed57020fd05325dafcd221fbdf6478cc7348abd6daa\n",
            "  Stored in directory: /root/.cache/pip/wheels/d2/99/18/59c6c8f01e39810415c0e63f5bede7d83dfb0ffc039865465f\n",
            "Successfully built face-recognition-models\n",
            "Installing collected packages: face-recognition-models, face-recognition\n",
            "Successfully installed face-recognition-1.3.0 face-recognition-models-0.3.0\n"
          ],
          "name": "stdout"
        }
      ]
    },
    {
      "cell_type": "code",
      "metadata": {
        "id": "1g0tu7lKV61R",
        "colab_type": "code",
        "colab": {}
      },
      "source": [
        "import cv2\n",
        "from google.colab.patches import  cv2_imshow\n",
        "import face_recognition"
      ],
      "execution_count": null,
      "outputs": []
    },
    {
      "cell_type": "code",
      "metadata": {
        "id": "QhWpk4SKWDka",
        "colab_type": "code",
        "colab": {
          "base_uri": "https://localhost:8080/",
          "height": 55
        },
        "outputId": "931fe2fb-a223-49dd-e837-5acf6792b4a1"
      },
      "source": [
        "print(dir(face_recognition))"
      ],
      "execution_count": null,
      "outputs": [
        {
          "output_type": "stream",
          "text": [
            "['__author__', '__builtins__', '__cached__', '__doc__', '__email__', '__file__', '__loader__', '__name__', '__package__', '__path__', '__spec__', '__version__', 'api', 'batch_face_locations', 'compare_faces', 'face_distance', 'face_encodings', 'face_landmarks', 'face_locations', 'load_image_file']\n"
          ],
          "name": "stdout"
        }
      ]
    },
    {
      "cell_type": "markdown",
      "metadata": {
        "id": "X71UnyDbBpE7",
        "colab_type": "text"
      },
      "source": [
        " load an image"
      ]
    },
    {
      "cell_type": "code",
      "metadata": {
        "id": "aO2ygUGjWN4X",
        "colab_type": "code",
        "colab": {
          "base_uri": "https://localhost:8080/",
          "height": 1000
        },
        "outputId": "18ef02ed-c94c-4bee-b239-6d5cf822e6b9"
      },
      "source": [
        "image=face_recognition.load_image_file(\"a.jpg\")\n",
        "print(image)\n",
        "cv2_imshow(\"image\")"
      ],
      "execution_count": null,
      "outputs": [
        {
          "output_type": "stream",
          "text": [
            "[[[57 63 37]\n",
            "  [62 68 42]\n",
            "  [66 72 46]\n",
            "  ...\n",
            "  [60 72 36]\n",
            "  [62 74 36]\n",
            "  [62 74 36]]\n",
            "\n",
            " [[58 64 38]\n",
            "  [61 67 41]\n",
            "  [64 70 44]\n",
            "  ...\n",
            "  [58 70 34]\n",
            "  [60 72 34]\n",
            "  [60 72 34]]\n",
            "\n",
            " [[57 62 39]\n",
            "  [59 65 39]\n",
            "  [60 66 40]\n",
            "  ...\n",
            "  [57 69 33]\n",
            "  [58 70 32]\n",
            "  [59 71 33]]\n",
            "\n",
            " ...\n",
            "\n",
            " [[68 75 59]\n",
            "  [70 77 61]\n",
            "  [72 79 63]\n",
            "  ...\n",
            "  [79 72 54]\n",
            "  [79 72 54]\n",
            "  [79 72 54]]\n",
            "\n",
            " [[70 77 59]\n",
            "  [72 79 61]\n",
            "  [77 81 64]\n",
            "  ...\n",
            "  [84 75 58]\n",
            "  [84 75 58]\n",
            "  [84 75 58]]\n",
            "\n",
            " [[72 76 59]\n",
            "  [75 79 62]\n",
            "  [77 81 64]\n",
            "  ...\n",
            "  [87 78 61]\n",
            "  [87 78 61]\n",
            "  [87 78 61]]]\n"
          ],
          "name": "stdout"
        },
        {
          "output_type": "error",
          "ename": "AttributeError",
          "evalue": "ignored",
          "traceback": [
            "\u001b[0;31m---------------------------------------------------------------------------\u001b[0m",
            "\u001b[0;31mAttributeError\u001b[0m                            Traceback (most recent call last)",
            "\u001b[0;32m<ipython-input-22-d4a92089b2ba>\u001b[0m in \u001b[0;36m<module>\u001b[0;34m()\u001b[0m\n\u001b[1;32m      1\u001b[0m \u001b[0mimage\u001b[0m\u001b[0;34m=\u001b[0m\u001b[0mface_recognition\u001b[0m\u001b[0;34m.\u001b[0m\u001b[0mload_image_file\u001b[0m\u001b[0;34m(\u001b[0m\u001b[0;34m\"a.jpg\"\u001b[0m\u001b[0;34m)\u001b[0m\u001b[0;34m\u001b[0m\u001b[0;34m\u001b[0m\u001b[0m\n\u001b[1;32m      2\u001b[0m \u001b[0mprint\u001b[0m\u001b[0;34m(\u001b[0m\u001b[0mimage\u001b[0m\u001b[0;34m)\u001b[0m\u001b[0;34m\u001b[0m\u001b[0;34m\u001b[0m\u001b[0m\n\u001b[0;32m----> 3\u001b[0;31m \u001b[0mcv2_imshow\u001b[0m\u001b[0;34m(\u001b[0m\u001b[0;34m\"image\"\u001b[0m\u001b[0;34m)\u001b[0m\u001b[0;34m\u001b[0m\u001b[0;34m\u001b[0m\u001b[0m\n\u001b[0m",
            "\u001b[0;32m/usr/local/lib/python3.6/dist-packages/google/colab/patches/__init__.py\u001b[0m in \u001b[0;36mcv2_imshow\u001b[0;34m(a)\u001b[0m\n\u001b[1;32m     20\u001b[0m       \u001b[0mimage\u001b[0m\u001b[0;34m.\u001b[0m\u001b[0;34m\u001b[0m\u001b[0;34m\u001b[0m\u001b[0m\n\u001b[1;32m     21\u001b[0m   \"\"\"\n\u001b[0;32m---> 22\u001b[0;31m   \u001b[0ma\u001b[0m \u001b[0;34m=\u001b[0m \u001b[0ma\u001b[0m\u001b[0;34m.\u001b[0m\u001b[0mclip\u001b[0m\u001b[0;34m(\u001b[0m\u001b[0;36m0\u001b[0m\u001b[0;34m,\u001b[0m \u001b[0;36m255\u001b[0m\u001b[0;34m)\u001b[0m\u001b[0;34m.\u001b[0m\u001b[0mastype\u001b[0m\u001b[0;34m(\u001b[0m\u001b[0;34m'uint8'\u001b[0m\u001b[0;34m)\u001b[0m\u001b[0;34m\u001b[0m\u001b[0;34m\u001b[0m\u001b[0m\n\u001b[0m\u001b[1;32m     23\u001b[0m   \u001b[0;31m# cv2 stores colors as BGR; convert to RGB\u001b[0m\u001b[0;34m\u001b[0m\u001b[0;34m\u001b[0m\u001b[0;34m\u001b[0m\u001b[0m\n\u001b[1;32m     24\u001b[0m   \u001b[0;32mif\u001b[0m \u001b[0ma\u001b[0m\u001b[0;34m.\u001b[0m\u001b[0mndim\u001b[0m \u001b[0;34m==\u001b[0m \u001b[0;36m3\u001b[0m\u001b[0;34m:\u001b[0m\u001b[0;34m\u001b[0m\u001b[0;34m\u001b[0m\u001b[0m\n",
            "\u001b[0;31mAttributeError\u001b[0m: 'str' object has no attribute 'clip'"
          ]
        }
      ]
    },
    {
      "cell_type": "markdown",
      "metadata": {
        "id": "Ukc5lO0aEmxj",
        "colab_type": "text"
      },
      "source": [
        "finding face_locatios\n",
        "Find all the faces in the image"
      ]
    },
    {
      "cell_type": "code",
      "metadata": {
        "id": "C0hmsyxhEEKR",
        "colab_type": "code",
        "colab": {
          "base_uri": "https://localhost:8080/",
          "height": 35
        },
        "outputId": "89f7a7bf-bb56-417c-d566-5b5c86432678"
      },
      "source": [
        "face_locations=face_recognition.face_locations(image)\n",
        "print(face_locations)"
      ],
      "execution_count": null,
      "outputs": [
        {
          "output_type": "stream",
          "text": [
            "[(202, 425, 356, 270)]\n"
          ],
          "name": "stdout"
        }
      ]
    },
    {
      "cell_type": "markdown",
      "metadata": {
        "id": "QhfRoI5ZEtpB",
        "colab_type": "text"
      },
      "source": [
        " find the facial features in the image"
      ]
    },
    {
      "cell_type": "code",
      "metadata": {
        "id": "9Kah44zTE-yZ",
        "colab_type": "code",
        "colab": {
          "base_uri": "https://localhost:8080/",
          "height": 55
        },
        "outputId": "bb4ad4bb-3375-4b09-d313-2f02f801d089"
      },
      "source": [
        "face_landmarks_list=face_recognition.face_landmarks(image)\n",
        "print(face_landmarks_list)"
      ],
      "execution_count": null,
      "outputs": [
        {
          "output_type": "stream",
          "text": [
            "[{'chin': [(266, 241), (268, 261), (271, 281), (277, 300), (283, 318), (294, 334), (308, 347), (324, 358), (344, 362), (363, 359), (381, 348), (396, 336), (407, 320), (414, 303), (418, 284), (421, 263), (423, 243)], 'left_eyebrow': [(283, 235), (296, 230), (309, 231), (321, 233), (333, 239)], 'right_eyebrow': [(362, 238), (373, 233), (384, 230), (396, 228), (406, 233)], 'nose_bridge': [(347, 249), (347, 264), (347, 278), (346, 292)], 'nose_tip': [(331, 298), (338, 300), (346, 303), (354, 301), (361, 297)], 'left_eye': [(299, 248), (308, 243), (318, 244), (327, 251), (317, 252), (307, 252)], 'right_eye': [(365, 252), (373, 244), (384, 244), (392, 249), (384, 253), (374, 253)], 'top_lip': [(311, 310), (326, 311), (338, 311), (346, 313), (354, 311), (364, 312), (378, 312), (373, 313), (353, 316), (345, 317), (337, 316), (316, 312)], 'bottom_lip': [(378, 312), (364, 321), (353, 325), (345, 326), (336, 325), (325, 320), (311, 310), (316, 312), (337, 316), (345, 318), (353, 317), (373, 313)]}]\n"
          ],
          "name": "stdout"
        }
      ]
    },
    {
      "cell_type": "markdown",
      "metadata": {
        "id": "1_CyIINRFa5x",
        "colab_type": "text"
      },
      "source": [
        "you could get face encodings for each face in the image:"
      ]
    },
    {
      "cell_type": "code",
      "metadata": {
        "id": "0J3L2laRFf3G",
        "colab_type": "code",
        "colab": {
          "base_uri": "https://localhost:8080/",
          "height": 479
        },
        "outputId": "fac1da05-00ce-4abc-bc1d-9f45b577e656"
      },
      "source": [
        "list_of_face_encodings = face_recognition.face_encodings(image)\n",
        "print(list_of_face_encodings)"
      ],
      "execution_count": null,
      "outputs": [
        {
          "output_type": "stream",
          "text": [
            "[array([-0.02496899,  0.12789908,  0.07017712, -0.14248353, -0.12946141,\n",
            "       -0.00845343,  0.00454707, -0.15132681,  0.19738948, -0.10108602,\n",
            "        0.09966909, -0.0863952 , -0.30513492, -0.04759439,  0.03571622,\n",
            "        0.16317524, -0.26691455, -0.24466388, -0.06260096, -0.08392181,\n",
            "       -0.08041273,  0.06859397, -0.00337406,  0.0249827 , -0.18268332,\n",
            "       -0.31633958, -0.04229595, -0.09254257,  0.06573239, -0.11807833,\n",
            "        0.06431571,  0.21704854, -0.15716383,  0.00094879,  0.02016163,\n",
            "        0.08994579, -0.0886223 , -0.16289887,  0.20126256,  0.07934073,\n",
            "       -0.23806998, -0.07161621,  0.01925215,  0.32056275,  0.27562684,\n",
            "       -0.0416087 ,  0.05909075, -0.11291682,  0.21403483, -0.41291505,\n",
            "        0.01425631,  0.1377569 , -0.04058539,  0.07514033,  0.06523994,\n",
            "       -0.2847375 ,  0.02456853,  0.08523591, -0.21734351,  0.08210111,\n",
            "        0.10208069, -0.15314706,  0.00935693, -0.05132268,  0.23862673,\n",
            "        0.02307433, -0.10209139, -0.13456517,  0.21786618, -0.14998552,\n",
            "       -0.04773618,  0.16394229, -0.0777905 , -0.15269473, -0.28249347,\n",
            "       -0.0005989 ,  0.3546657 ,  0.11652543, -0.07110621,  0.03893483,\n",
            "       -0.11272214, -0.02482346,  0.01477374,  0.13466746, -0.05016999,\n",
            "       -0.05168448, -0.13531846,  0.0205508 ,  0.30204454, -0.07568868,\n",
            "       -0.01403144,  0.31126863,  0.00519696,  0.01235979, -0.00993845,\n",
            "        0.04494986, -0.14657094,  0.02677041, -0.13788702, -0.05976526,\n",
            "        0.08951271, -0.07435025, -0.01525467,  0.1847496 , -0.20022412,\n",
            "        0.24268974, -0.00598125, -0.00518784, -0.02778567, -0.18563245,\n",
            "       -0.03108725,  0.0249288 ,  0.23192351, -0.30186257,  0.1354851 ,\n",
            "        0.19555268,  0.10104971,  0.15566686,  0.04461446, -0.00615312,\n",
            "       -0.0086518 , -0.11370154, -0.18857732, -0.02379359,  0.07572685,\n",
            "       -0.00722133, -0.07065992,  0.06971963])]\n"
          ],
          "name": "stdout"
        }
      ]
    },
    {
      "cell_type": "markdown",
      "metadata": {
        "id": "F65c8EZnF6lD",
        "colab_type": "text"
      },
      "source": [
        ""
      ]
    },
    {
      "cell_type": "code",
      "metadata": {
        "id": "CS3Gy_0pF67_",
        "colab_type": "code",
        "colab": {
          "base_uri": "https://localhost:8080/",
          "height": 186
        },
        "outputId": "d2ec36fe-617a-4a66-8298-158ce7c878d6"
      },
      "source": [
        "results = face_recognition.compare_faces(known_face_encodings, a_single_unknown_face_encoding)\n",
        "#results"
      ],
      "execution_count": null,
      "outputs": [
        {
          "output_type": "error",
          "ename": "NameError",
          "evalue": "ignored",
          "traceback": [
            "\u001b[0;31m---------------------------------------------------------------------------\u001b[0m",
            "\u001b[0;31mNameError\u001b[0m                                 Traceback (most recent call last)",
            "\u001b[0;32m<ipython-input-16-306ad0bf74c9>\u001b[0m in \u001b[0;36m<module>\u001b[0;34m()\u001b[0m\n\u001b[0;32m----> 1\u001b[0;31m \u001b[0mresults\u001b[0m \u001b[0;34m=\u001b[0m \u001b[0mface_recognition\u001b[0m\u001b[0;34m.\u001b[0m\u001b[0mcompare_faces\u001b[0m\u001b[0;34m(\u001b[0m\u001b[0mknown_face_encodings\u001b[0m\u001b[0;34m,\u001b[0m \u001b[0ma_single_unknown_face_encoding\u001b[0m\u001b[0;34m)\u001b[0m\u001b[0;34m\u001b[0m\u001b[0;34m\u001b[0m\u001b[0m\n\u001b[0m\u001b[1;32m      2\u001b[0m \u001b[0;31m#results\u001b[0m\u001b[0;34m\u001b[0m\u001b[0;34m\u001b[0m\u001b[0;34m\u001b[0m\u001b[0m\n",
            "\u001b[0;31mNameError\u001b[0m: name 'known_face_encodings' is not defined"
          ]
        }
      ]
    }
  ]
}